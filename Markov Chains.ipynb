{
 "cells": [
  {
   "cell_type": "code",
   "execution_count": null,
   "metadata": {},
   "outputs": [],
   "source": []
  },
  {
   "cell_type": "code",
   "execution_count": null,
   "metadata": {},
   "outputs": [],
   "source": []
  },
  {
   "cell_type": "code",
   "execution_count": null,
   "metadata": {},
   "outputs": [],
   "source": []
  },
  {
   "cell_type": "code",
   "execution_count": 1,
   "metadata": {},
   "outputs": [],
   "source": [
    "training_data = \"hello hello world world\""
   ]
  },
  {
   "cell_type": "code",
   "execution_count": 4,
   "metadata": {},
   "outputs": [],
   "source": [
    "def createTable(inp, k=3):\n",
    "    T = {}\n",
    "    for i in range(len(inp) - k):\n",
    "        X = inp[i : i+k]\n",
    "        Y = inp[i+k]\n",
    "        if X in T:\n",
    "            if Y in T[X]:\n",
    "                T[X][Y] += 1\n",
    "            else:\n",
    "                T[X][Y] = 1\n",
    "        else:\n",
    "            T[X] = {\n",
    "                Y: 1\n",
    "            }\n",
    "    return T"
   ]
  },
  {
   "cell_type": "code",
   "execution_count": 5,
   "metadata": {},
   "outputs": [
    {
     "data": {
      "text/plain": [
       "{'hel': {'l': 2},\n",
       " 'ell': {'o': 2},\n",
       " 'llo': {' ': 2},\n",
       " 'lo ': {'h': 1, 'w': 1},\n",
       " 'o h': {'e': 1},\n",
       " ' he': {'l': 1},\n",
       " 'o w': {'o': 1},\n",
       " ' wo': {'r': 2},\n",
       " 'wor': {'l': 2},\n",
       " 'orl': {'d': 2},\n",
       " 'rld': {' ': 1},\n",
       " 'ld ': {'w': 1},\n",
       " 'd w': {'o': 1}}"
      ]
     },
     "execution_count": 5,
     "metadata": {},
     "output_type": "execute_result"
    }
   ],
   "source": [
    "createTable(training_data)"
   ]
  },
  {
   "cell_type": "code",
   "execution_count": 6,
   "metadata": {},
   "outputs": [],
   "source": [
    "def convertProb(T):\n",
    "    for X in T:\n",
    "        total = sum(T[X].values())\n",
    "        for Y in T[X]:\n",
    "            T[X][Y] /= total\n",
    "    return T"
   ]
  },
  {
   "cell_type": "code",
   "execution_count": 7,
   "metadata": {},
   "outputs": [
    {
     "data": {
      "text/plain": [
       "{'hel': {'l': 1.0},\n",
       " 'ell': {'o': 1.0},\n",
       " 'llo': {' ': 1.0},\n",
       " 'lo ': {'h': 0.5, 'w': 0.5},\n",
       " 'o h': {'e': 1.0},\n",
       " ' he': {'l': 1.0},\n",
       " 'o w': {'o': 1.0},\n",
       " ' wo': {'r': 1.0},\n",
       " 'wor': {'l': 1.0},\n",
       " 'orl': {'d': 1.0},\n",
       " 'rld': {' ': 1.0},\n",
       " 'ld ': {'w': 1.0},\n",
       " 'd w': {'o': 1.0}}"
      ]
     },
     "execution_count": 7,
     "metadata": {},
     "output_type": "execute_result"
    }
   ],
   "source": [
    "convertProb(createTable(training_data))"
   ]
  },
  {
   "cell_type": "code",
   "execution_count": 8,
   "metadata": {},
   "outputs": [],
   "source": [
    "import numpy as np"
   ]
  },
  {
   "cell_type": "code",
   "execution_count": 9,
   "metadata": {},
   "outputs": [
    {
     "data": {
      "text/plain": [
       "'def'"
      ]
     },
     "execution_count": 9,
     "metadata": {},
     "output_type": "execute_result"
    }
   ],
   "source": [
    "\"abcdef\"[-3:]"
   ]
  },
  {
   "cell_type": "code",
   "execution_count": 17,
   "metadata": {},
   "outputs": [],
   "source": [
    "def sampleNext(T, s):\n",
    "    inp = s[-3:]\n",
    "    if inp in T:\n",
    "        p_outputs = list(T[inp].keys())\n",
    "        p_prob = list(T[inp].values())\n",
    "        return np.random.choice(p_outputs, p = p_prob)\n",
    "    else:\n",
    "        \" \""
   ]
  },
  {
   "cell_type": "code",
   "execution_count": 18,
   "metadata": {},
   "outputs": [],
   "source": [
    "model = convertProb(createTable(training_data))"
   ]
  },
  {
   "cell_type": "code",
   "execution_count": 20,
   "metadata": {},
   "outputs": [
    {
     "data": {
      "text/plain": [
       "'d'"
      ]
     },
     "execution_count": 20,
     "metadata": {},
     "output_type": "execute_result"
    }
   ],
   "source": [
    "sampleNext(model, \"worl\")"
   ]
  },
  {
   "cell_type": "code",
   "execution_count": 26,
   "metadata": {},
   "outputs": [],
   "source": [
    "def generateText(T, start, length = 1000):\n",
    "    for i in range(length):\n",
    "        start += sampleNext(T, start)\n",
    "    return start"
   ]
  },
  {
   "cell_type": "code",
   "execution_count": 29,
   "metadata": {},
   "outputs": [
    {
     "name": "stdout",
     "output_type": "stream",
     "text": [
      "hell glue trough time times\n",
      "But fuck off, back the way it therfuck rap boy?\n",
      "I don't be Trash God\n",
      "All 'em a ling immonstration\n",
      "And at I bus too use vehicle Eazy, yours the struct only Hall 'em a pince Bill syllables, Slim Shady, I'm demonstratching music\n",
      "'Cause I'm once it's go one one looking to you\n",
      "I'm and in the try looking burs they, give a fag asking, I got, generathere if here half it normatchicle fore it's get indecently my gonna get in can feel like it\n",
      "Got you with Monch gay like eline\n",
      "Apperstake you we're half-cock it's hone like a fag an feel thing's still me\n",
      "I'm all sympatient\n",
      "Let if you doctor you and be was a like an the and I'm a rocket\n",
      "My people from Columbs up and nod, bad\n",
      "So that to stuck that yours a time 'till chance virginning to gay looking an MC strathe from the a still yep, ill 'em a like act\n",
      "How when you faggotta mothinks to can being box?\n",
      "Let outta music\n",
      "Oh, slicken say, look, futilling, a lap like in coming you rhymes, when\n",
      "But if herstand doberal with the rap, but\n"
     ]
    }
   ],
   "source": [
    "print(generateText(model, \"hell\"))"
   ]
  },
  {
   "cell_type": "code",
   "execution_count": 23,
   "metadata": {},
   "outputs": [],
   "source": [
    "training_data = '''Look, I was gonna go easy on you and not to hurt your feelings\n",
    "But I'm only going to get this one chance\n",
    "Something's wrong, I can feel it (Six minutes, Slim Shady, you're on)\n",
    "Just a feeling I've got, like something's about to happen, but I don't know what\n",
    "If that means, what I think it means, we're in trouble, big trouble,\n",
    "And if he is as bananas as you say, I'm not taking any chances\n",
    "You were just what the doctor ordered\n",
    "I'm beginning to feel like a Rap God, Rap God\n",
    "All my people from the front to the back nod, back nod\n",
    "Now who thinks their arms are long enough to slap box, slap box?\n",
    "They said I rap like a robot, so call me Rapbot\n",
    "But for me to rap like a computer must be in my genes\n",
    "I got a laptop in my back pocket\n",
    "My pen'll go off when I half-cock it\n",
    "Got a fat knot from that rap profit\n",
    "Made a living and a killing off it\n",
    "Ever since Bill Clinton was still in office\n",
    "With Monica Lewinsky feeling on his nut-sack\n",
    "I'm an MC still as honest\n",
    "But as rude and indecent as all hell syllables, killaholic (Kill 'em all with)\n",
    "This slickety, gibbedy, hibbedy hip hop\n",
    "You don't really wanna get into a pissing match with this rappidy brat\n",
    "Packing a Mac in the back of the Ac, backpack rap crap, yep, yackidy-yac\n",
    "And at the exact same time I attempt these lyrical acrobat stunts while I'm practicing\n",
    "That I'll still be able to break a motherfuckin' table\n",
    "Over the back of a couple of faggots and crack it in half\n",
    "Only realized it was ironic I was signed to Aftermath after the fact\n",
    "How could I not blow? All I do is drop F-bombs, feel my wrath of attack\n",
    "Rappers are having a rough time period, here's a Maxipad\n",
    "It's actually disastrously bad\n",
    "For the wack while I'm masterfully constructing this masterpiece as\n",
    "I'm beginning to feel like a Rap God, Rap God\n",
    "All my people from the front to the back nod, back nod\n",
    "Now who thinks their arms are long enough to slap box, slap box?\n",
    "Let me show you maintaining this shit ain't that hard, that hard\n",
    "Everybody want the key and the secret to rap immortality like I have got\n",
    "Well, to be truthful the blueprint's simply rage and youthful exuberance\n",
    "Everybody loves to root for a nuisance\n",
    "Hit the earth like an asteroid, did nothing but shoot for the moon since\n",
    "MC's get taken to school with this music\n",
    "'Cause I use it as a vehicle to bus the rhyme\n",
    "Now I lead a new school full of students\n",
    "Me? I'm a product of Rakim, Lakim Shabazz, 2Pac N-\n",
    "-W.A, Cube, hey, Doc, Ren, Yella, Eazy, thank you, they got Slim\n",
    "Inspired enough to one day grow up, blow up and be in a position\n",
    "To meet Run DMC and induct them into the motherfuckin' Rock n'\n",
    "Roll Hall of Fame\n",
    "Even though I walk in the church and burst in a ball of flames\n",
    "Only Hall of Fame I be inducted in is the alcohol of fame\n",
    "On the wall of shame\n",
    "You fags think it's all a game 'til I walk a flock of flames\n",
    "Off of planking, tell me what in the fuck are you thinking?\n",
    "Little gay looking boy\n",
    "So gay I can barely say it with a straight face looking boy\n",
    "You witnessing a mass occur\n",
    "Like you watching a church gathering take place looking boy\n",
    "Oy vey, that boy's gay, that's all they say looking boy\n",
    "You get a thumbs up, pat on the back\n",
    "And a \"way to go\" from your label everyday looking boy\n",
    "Hey, looking boy, what you say looking boy?\n",
    "I got a \"hell yeah\" from Dre looking boy\n",
    "I'mma work for everything I have\n",
    "Never ask nobody for shit, get outta my face looking boy\n",
    "Basically boy you're never gonna be capable\n",
    "To keep up with the same pace looking boy\n",
    "'Cause I'm beginning to feel like a Rap God, Rap God\n",
    "All my people from the front to the back nod, back nod\n",
    "The way I'm racing around the track, call me Nascar, Nascar\n",
    "Dale Earnhardt of the trailer park, the White Trash God\n",
    "Kneel before General Zod this planet's Krypton, no Asgard, Asgard\n",
    "So you be Thor and I'll be Odin, you rodent, I'm omnipotent\n",
    "Let off then I'm reloading immediately with these bombs I'm totin'\n",
    "And I should not be woken\n",
    "I'm the walking dead, but I'm just a talking head, a zombie floating\n",
    "But I got your mom deep throating\n",
    "I'm out my Ramen noodle, we have nothing in common, poodle\n",
    "I'm a doberman, pinch yourself in the arm and pay homage, pupil\n",
    "It's me, my honesty's brutal\n",
    "But it's honestly futile if I don't utilize what I do though\n",
    "For good at least once in a while\n",
    "So I wanna make sure somewhere in this chicken scratch I scribble and doodle\n",
    "Enough rhymes to maybe to try and help get some people through tough times\n",
    "But I gotta keep a few punchlines just in case 'cause even you unsigned\n",
    "Rappers are hungry looking at me like it's lunchtime\n",
    "I know there was a time where once I\n",
    "Was king of the underground, but I still rap like I'm on my Pharoahe Monch grind\n",
    "So I crunch rhymes, but sometimes when you combine\n",
    "Appeal with the skin color of mine\n",
    "You get too big and here they come trying to\n",
    "Censor you like that one line I said on \"I'm Back\" from the Mathers LP\n",
    "One when I tried to say \"I'll take seven kids from Columbine\n",
    "Put 'em all in a line, add an AK-47, a revolver and a nine\"\n",
    "See if I get away with it now that I ain't as big as I was, but I'm\n",
    "Morphin' into an immortal coming through the portal\n",
    "You're stuck in a time warp from 2004 though\n",
    "And I don't know what the fuck that you rhyme for\n",
    "You're pointless as Rapunzel with fucking cornrows\n",
    "You write normal, fuck being normal\n",
    "And I just bought a new Raygun from the future\n",
    "Just to come and shoot ya like when Fabolous made Ray J mad\n",
    "'Cause Fab said he looked like a fag at Maywhether’s pad\n",
    "Singin' to a man while they played piano\n",
    "Man, oh man, that was a 24/7 special on the cable channel\n",
    "So Ray J went straight to the radio station the very next day\n",
    "\"Hey, Fab, I'mma kill you\"\n",
    "Lyrics coming at you at supersonic speed, (JJ Fad)\n",
    "Uh, sama lamaa duma lamaa you assuming I'm a human\n",
    "What I gotta do to get it through to you I'm superhuman\n",
    "Innovative and I'm made of rubber\n",
    "So that anything you say is ricocheting off of me and it'll glue to you\n",
    "I'm devastating, more than ever demonstrating\n",
    "How to give a motherfuckin' audience a feeling like it's levitating\n",
    "Never fading, and I know that the haters are forever waiting\n",
    "For the day that they can say I fell off, they'd be celebrating\n",
    "'Cause I know the way to get 'em motivated\n",
    "I make elevating music, you make elevator music\n",
    "Oh, he's too mainstream\n",
    "Well, that's what they do when they get jealous, they confuse it\n",
    "It's not hip hop, it's pop, 'cause I found a hella way to fuse it\n",
    "With rock, shock rap with Doc\n",
    "Throw on Lose Yourself and make 'em lose it\n",
    "I don't know how to make songs like that\n",
    "I don't know what words to use\n",
    "Let me know when it occurs to you\n",
    "While I’m ripping any one of these verses diverse as you\n",
    "It’s curtains, I’m inadvertently hurtin' you\n",
    "How many verses I gotta murder to\n",
    "Prove that if you were half as nice, your songs you can sacrifice virgins too uh!\n",
    "School flunkie, pill junky\n",
    "But look at the accolades the skills brung me\n",
    "Full of myself, but still hungry\n",
    "I bully myself 'cause I make me do what I put my mind to\n",
    "And I'm a million leagues above you, ill when I speak in tongues\n",
    "But it's still tongue in cheek, fuck you\n",
    "I'm drunk so Satan take the fucking wheel, I'm asleep in the front seat\n",
    "Bumping Heavy D and the Boys, still chunky, but funky\n",
    "But in my head there's something I can feel tugging and struggling\n",
    "Angels fight with devils and, here's what they want from me\n",
    "They asking me to eliminate some of the women hate\n",
    "But if you take into consideration the bitter hatred I have\n",
    "Then you may be a little patient and more sympathetic to the situation\n",
    "And understand the discrimination\n",
    "But fuck it, life's handing you lemons, make lemonade then\n",
    "But if I can't batter the women how the fuck am I supposed to bake them a cake then?\n",
    "Don't mistake it for Satan\n",
    "It's a fatal mistake if you think I need to be overseas\n",
    "And take a vacation to trip a broad\n",
    "And make her fall on her face and don't be a retard\n",
    "Be a king? Think not, why be a king when you can be a God?'''"
   ]
  },
  {
   "cell_type": "code",
   "execution_count": 24,
   "metadata": {},
   "outputs": [],
   "source": [
    "model = convertProb(createTable(training_data))"
   ]
  },
  {
   "cell_type": "code",
   "execution_count": 25,
   "metadata": {},
   "outputs": [
    {
     "ename": "TypeError",
     "evalue": "can only concatenate str (not \"NoneType\") to str",
     "output_type": "error",
     "traceback": [
      "\u001b[0;31m--------------------------------------------------------------\u001b[0m",
      "\u001b[0;31mTypeError\u001b[0m                    Traceback (most recent call last)",
      "\u001b[0;32m<ipython-input-25-fffa8b685cb7>\u001b[0m in \u001b[0;36m<module>\u001b[0;34m\u001b[0m\n\u001b[0;32m----> 1\u001b[0;31m \u001b[0mgenerateText\u001b[0m\u001b[0;34m(\u001b[0m\u001b[0mmodel\u001b[0m\u001b[0;34m,\u001b[0m \u001b[0;34m\"god\"\u001b[0m\u001b[0;34m)\u001b[0m\u001b[0;34m\u001b[0m\u001b[0m\n\u001b[0m",
      "\u001b[0;32m<ipython-input-21-6795a922d880>\u001b[0m in \u001b[0;36mgenerateText\u001b[0;34m(T, start, length)\u001b[0m\n\u001b[1;32m      1\u001b[0m \u001b[0;32mdef\u001b[0m \u001b[0mgenerateText\u001b[0m\u001b[0;34m(\u001b[0m\u001b[0mT\u001b[0m\u001b[0;34m,\u001b[0m \u001b[0mstart\u001b[0m\u001b[0;34m,\u001b[0m \u001b[0mlength\u001b[0m \u001b[0;34m=\u001b[0m \u001b[0;36m1000\u001b[0m\u001b[0;34m)\u001b[0m\u001b[0;34m:\u001b[0m\u001b[0;34m\u001b[0m\u001b[0m\n\u001b[1;32m      2\u001b[0m     \u001b[0;32mfor\u001b[0m \u001b[0mi\u001b[0m \u001b[0;32min\u001b[0m \u001b[0mrange\u001b[0m\u001b[0;34m(\u001b[0m\u001b[0mlength\u001b[0m\u001b[0;34m)\u001b[0m\u001b[0;34m:\u001b[0m\u001b[0;34m\u001b[0m\u001b[0m\n\u001b[0;32m----> 3\u001b[0;31m         \u001b[0mstart\u001b[0m \u001b[0;34m+=\u001b[0m \u001b[0msampleNext\u001b[0m\u001b[0;34m(\u001b[0m\u001b[0mT\u001b[0m\u001b[0;34m,\u001b[0m \u001b[0mstart\u001b[0m\u001b[0;34m)\u001b[0m\u001b[0;34m\u001b[0m\u001b[0m\n\u001b[0m\u001b[1;32m      4\u001b[0m     \u001b[0;32mreturn\u001b[0m \u001b[0mstart\u001b[0m\u001b[0;34m\u001b[0m\u001b[0m\n",
      "\u001b[0;31mTypeError\u001b[0m: can only concatenate str (not \"NoneType\") to str"
     ]
    }
   ],
   "source": [
    "generateText(model, \"god\")"
   ]
  },
  {
   "cell_type": "code",
   "execution_count": null,
   "metadata": {},
   "outputs": [],
   "source": []
  }
 ],
 "metadata": {
  "kernelspec": {
   "display_name": "Python 3",
   "language": "python",
   "name": "python3"
  },
  "language_info": {
   "codemirror_mode": {
    "name": "ipython",
    "version": 3
   },
   "file_extension": ".py",
   "mimetype": "text/x-python",
   "name": "python",
   "nbconvert_exporter": "python",
   "pygments_lexer": "ipython3",
   "version": "3.7.0"
  }
 },
 "nbformat": 4,
 "nbformat_minor": 2
}
